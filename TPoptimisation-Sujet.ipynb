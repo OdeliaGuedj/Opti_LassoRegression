{
 "cells": [
  {
   "cell_type": "markdown",
   "metadata": {},
   "source": [
    "# TP d'optimisation\n",
    "## Méthodes d'optimisation pour la régression logistique pénalisée lasso"
   ]
  },
  {
   "cell_type": "markdown",
   "metadata": {},
   "source": [
    "On veut comparer les algorithmes ISTA, FISTA, ADMM et SGD sur la régression logistique pénalisée lasso."
   ]
  },
  {
   "cell_type": "markdown",
   "metadata": {},
   "source": [
    "On considère que l'on observe les couples $(y_i,X_i)$ avec $y_i \\in \\{ -1, 1\\}$ et $X_i \\in \\mathbb R^p$ dont la vraisemblance au point $\\beta \\in \\mathbb R^p$ est donnée par \n",
    "$$\n",
    "\\prod_{i=1}^n \\frac{1}{1+\\exp(-y_i X_i \\beta)}.\n",
    "$$"
   ]
  },
  {
   "cell_type": "markdown",
   "metadata": {},
   "source": [
    "On veut donc résoudre\n",
    "$$\n",
    "\\arg\\min_\\beta \\frac{1}{n}\\sum_{i=1}^n \\log\\big(1 + \\exp(-y_i X_i \\beta) \\big)+  \\lambda\\| \\beta \\|_{\\ell_1}\n",
    "$$\n",
    "\n"
   ]
  },
  {
   "cell_type": "markdown",
   "metadata": {},
   "source": [
    "## Simulation dans un modèle logistique"
   ]
  },
  {
   "cell_type": "markdown",
   "metadata": {},
   "source": [
    "### Choix des valeurs de $n$ et $p$"
   ]
  },
  {
   "cell_type": "code",
   "execution_count": 5,
   "metadata": {
    "collapsed": true
   },
   "outputs": [],
   "source": [
    "n_features = 50\n",
    "n_samples = 2000"
   ]
  },
  {
   "cell_type": "markdown",
   "metadata": {},
   "source": [
    "### Choix des valeurs de $\\beta^\\star$"
   ]
  },
  {
   "cell_type": "markdown",
   "metadata": {},
   "source": [
    "On pose $\\beta^\\star_j = (-1)^{j-1} \\exp(-(j-1)/10)$."
   ]
  },
  {
   "cell_type": "code",
   "execution_count": 7,
   "metadata": {},
   "outputs": [
    {
     "data": {
      "text/plain": [
       "<matplotlib.text.Text at 0x11b84c470>"
      ]
     },
     "execution_count": 7,
     "metadata": {},
     "output_type": "execute_result"
    },
    {
     "data": {
      "image/png": "[encoded data removed]",
      "text/plain": [
       "<matplotlib.figure.Figure at 0x111b24e48>"
      ]
     },
     "metadata": {},
     "output_type": "display_data"
    }
   ],
   "source": [
    "import numpy as np\n",
    "import matplotlib.pylab as plt\n",
    "\n",
    "%matplotlib inline\n",
    "\n",
    "idx = np.arange(n_features)\n",
    "params = (-1) ** idx  * np.exp(-idx / 10.)\n",
    "params[20:] = 0.\n",
    "plt.stem(params)\n",
    "plt.title(\"Parameters\")"
   ]
  },
  {
   "cell_type": "markdown",
   "metadata": {},
   "source": [
    "### Simulation de la matrice X (features)"
   ]
  },
  {
   "cell_type": "code",
   "execution_count": 8,
   "metadata": {
    "collapsed": true
   },
   "outputs": [],
   "source": [
    "\n",
    "from numpy.random import multivariate_normal\n",
    "from scipy.linalg.special_matrices import toeplitz\n",
    "\n",
    "# Correlation\n",
    "rho = 0.1\n",
    "# Matrice de covariance Toeplitz\n",
    "\n",
    "np.set_printoptions(precision=2) # pour simplifier l'affichage\n",
    "cov = toeplitz(rho ** np.arange(0, n_features))\n",
    "\n",
    "# Simulation d'un vecteur gaussien de taille n avec cette matrice de covariance\n",
    "features = multivariate_normal(np.zeros(n_features), cov, size=n_samples)"
   ]
  },
  {
   "cell_type": "markdown",
   "metadata": {},
   "source": [
    "### Simulations des $y_i$"
   ]
  },
  {
   "cell_type": "markdown",
   "metadata": {},
   "source": [
    "Coder une fonction **sigmoïd**. Attention aux overflows possibles !"
   ]
  },
  {
   "cell_type": "markdown",
   "metadata": {},
   "source": [
    "Coder une fonction **simu_log_reg** qui pour $n$, $\\beta^\\star$ et $\\rho$ renvoie une matrice de features et un vecteur de labels."
   ]
  },
  {
   "cell_type": "code",
   "execution_count": 12,
   "metadata": {
    "collapsed": true
   },
   "outputs": [],
   "source": [
    "from numpy.random import binomial"
   ]
  },
  {
   "cell_type": "code",
   "execution_count": 13,
   "metadata": {
    "collapsed": true
   },
   "outputs": [],
   "source": [
    "def simu_logreg(n_samples,params=params,rho=0.1):\n",
    "    \"\"\" simulation in a logistic regression model \n",
    "    \n",
    "    Parameters\n",
    "    ----------\n",
    "    coefs : `numpy.array`, shape=(n_features,)\n",
    "        Coefficients of the model\n",
    "    n_samples : `int`, \n",
    "        Number of samples to simulate\n",
    "    rho : `float`, default=0.1\n",
    "        Correlation of the features\n",
    "    Returns\n",
    "    -------\n",
    "    X : `numpy.ndarray`, shape=(n_samples, n_features)\n",
    "    Simulated features matrix. It samples of a centered Gaussian\n",
    "    vector with covariance given by the Toeplitz matrix\n",
    "    y : `numpy.array`, shape=(n_samples,)\n",
    "                 Simulated labels\n",
    "    \"\"\"\n",
    "    n_features = params.size\n",
    "    \n",
    "    cov = toeplitz(rho ** np.arange(0, n_features))\n",
    "    \n",
    "    features = multivariate_normal(np.zeros(n_features), cov, size=n_samples)\n",
    "    \n",
    "    pis = sigmoid(features.dot(params))\n",
    "    \n",
    "    labels = 2 * ( binomial(1,pis, n_samples) - 1)\n",
    "    \n",
    "    return((features,labels))"
   ]
  },
  {
   "cell_type": "code",
   "execution_count": 23,
   "metadata": {},
   "outputs": [
    {
     "name": "stdout",
     "output_type": "stream",
     "text": [
      "(2000,)\n",
      "(2000, 50)\n"
     ]
    }
   ],
   "source": [
    "X,y = simu_logreg(2000)\n",
    "print(y.shape)\n",
    "print(X.shape)"
   ]
  },
  {
   "cell_type": "markdown",
   "metadata": {},
   "source": [
    "## Objectif, gradient sans lasso (quand $\\lambda=0$)"
   ]
  },
  {
   "cell_type": "markdown",
   "metadata": {},
   "source": [
    "- Coder une fonction qui calcule la perte logistique et son gradient pour une matrice de features $X$, un vecteur de labels $y$ et une valeur courante $w$ du paramètre\n",
    "- Vérifier qu'il n'y pas d'erreur en utilisant la fonction **check_grad** de scipy.optimize\n",
    "- Coder une fonction qui calcule l'objectif"
   ]
  },
  {
   "cell_type": "code",
   "execution_count": 24,
   "metadata": {
    "collapsed": true
   },
   "outputs": [],
   "source": [
    "def loss_logreg(w,X,y):\n",
    "    \"\"\" calcul de la perte logistique\n",
    "     Parameters\n",
    "    ----------\n",
    "    X : `numpy.array`, shape=(n_samples,n_features)\n",
    "        features\n",
    "    y : `numpy.array`, shape=(n_samples,)\n",
    "        labels\n",
    "    w : `numpy.array`, shape=(n_features,)\n",
    "        value of the parameter\n",
    "    \"\"\"\n",
    "    return "
   ]
  },
  {
   "cell_type": "code",
   "execution_count": 26,
   "metadata": {
    "collapsed": true
   },
   "outputs": [],
   "source": [
    "def grad_logreg(w,X,y):\n",
    "    \"\"\" calcul du gradient de la perte logistique\n",
    "         Parameters\n",
    "    ----------\n",
    "    X : `numpy.array`, shape=(n_samples,n_features)\n",
    "        features\n",
    "    y : `numpy.array`, shape=(n_samples,)\n",
    "        labels\n",
    "    w : `numpy.array`, shape=(n_features,)\n",
    "        value of the parameter\n",
    "    \"\"\"\n",
    "\n",
    "    return"
   ]
  },
  {
   "cell_type": "code",
   "execution_count": 28,
   "metadata": {},
   "outputs": [
    {
     "name": "stdout",
     "output_type": "stream",
     "text": [
      "3.0740654579e-08\n"
     ]
    }
   ],
   "source": [
    "from scipy.optimize import check_grad\n",
    "print(check_grad(loss_logreg, grad_logreg, params,X,y))"
   ]
  },
  {
   "cell_type": "code",
   "execution_count": 31,
   "metadata": {
    "collapsed": true
   },
   "outputs": [],
   "source": [
    "def objective(X,y,w):\n",
    "    return(loss_logreg(X,y,w))"
   ]
  },
  {
   "cell_type": "markdown",
   "metadata": {},
   "source": [
    "On met le tout dans une classe comme indiqué ci-dessous"
   ]
  },
  {
   "cell_type": "code",
   "execution_count": 36,
   "metadata": {
    "collapsed": true
   },
   "outputs": [],
   "source": [
    "from numpy.linalg import norm\n",
    "class Logreg:\n",
    "    \"\"\"       \n",
    "    Parameters\n",
    "    ----------\n",
    "    X : `numpy.array`, shape=(n_samples,n_features)\n",
    "        features\n",
    "    y : `numpy.array`, shape=(n_samples,)\n",
    "        labels\n",
    "    lamb : `float`, \n",
    "        value of the regularization parameter\n",
    "    \"\"\"\n",
    "    def __init__(self,X,y,lamb):\n",
    "        self.X = X\n",
    "        self.y = y\n",
    "        self.lamb = lamb\n",
    "        self.n_samples, self.n_features = X.shape\n",
    "\n",
    "    def loss(self,w):\n",
    "        u = self.y * self.X.dot(w) \n",
    "        return -np.sum(np.log(sigmoid(u))) / self.n_samples\n",
    "\n",
    "    def grad(self,w):\n",
    "        u = self.y * self.X.dot(w) \n",
    "        return self.X.T.dot(self.y  * (sigmoid(u) - 1)) / self.n_samples\n",
    "\n",
    "    def objective(self,w):\n",
    "        return(self.loss_logreg(w))\n"
   ]
  },
  {
   "cell_type": "code",
   "execution_count": 37,
   "metadata": {},
   "outputs": [
    {
     "data": {
      "text/plain": [
       "0.36070596251326198"
      ]
     },
     "execution_count": 37,
     "metadata": {},
     "output_type": "execute_result"
    }
   ],
   "source": [
    "model_logreg = Logreg(X,y,0.1)\n",
    "model_logreg.grad(np.zeros(n_features))\n",
    "model_logreg.lip_const()"
   ]
  },
  {
   "cell_type": "code",
   "execution_count": 39,
   "metadata": {},
   "outputs": [
    {
     "name": "stdout",
     "output_type": "stream",
     "text": [
      "3.0740654579e-08\n"
     ]
    }
   ],
   "source": [
    "print(check_grad(model_logreg.loss, model_logreg.grad, params))"
   ]
  },
  {
   "cell_type": "markdown",
   "metadata": {},
   "source": [
    "# Descente de gradient et algorithme de Newton"
   ]
  },
  {
   "cell_type": "markdown",
   "metadata": {},
   "source": [
    "- Coder l'algorithme de descente de gradient, il faut ajouter une méthode **lip_const** qui calcule une constante de Lipschitz pour le gradient.\n",
    "- Coder l'algorithme de Newtow, il faudra ajouter une méthode **hessian** à la classe logreg.\n",
    "- Représenter l'évolution des objectifs graphiquement"
   ]
  },
  {
   "cell_type": "code",
   "execution_count": 40,
   "metadata": {
    "collapsed": true
   },
   "outputs": [],
   "source": [
    "def gd(model, w0, step = None, n_iter=50, verbose=True):\n",
    "    \"\"\"\n",
    "    Gradient descent\n",
    "    \"\"\"\n",
    "    w = w0.copy()\n",
    "    w_new = w0.copy()\n",
    "    n_samples, n_features = model.X.shape\n",
    "    # objective history\n",
    "    objectives = []\n",
    "    # Current objective\n",
    "    obj = model.loss(w) \n",
    "    objectives.append(obj) \n",
    "    if verbose:\n",
    "        print(\"Lauching GD solver...\")\n",
    "        print(' | '.join([name.center(8) for name in [\"it\", \"obj\"]])) \n",
    "    for k in range(n_iter + 1):\n",
    "        if step==None:\n",
    "            step = 1/model.lip_const()\n",
    "    #######################################################################\n",
    "        w_new[:] =\n",
    "        w[:] = w_new\n",
    "    #######################################################################\n",
    "        obj = model.loss(w) \n",
    "        objectives.append(obj)\n",
    "        if k % 10 == 0 and verbose:\n",
    "            print(' | '.join([(\"%d\" % k).rjust(8), (\"%.2e\" % obj).rjust(8)]))\n",
    "    return w, np.array(objectives)"
   ]
  },
  {
   "cell_type": "code",
   "execution_count": 53,
   "metadata": {
    "collapsed": true
   },
   "outputs": [],
   "source": [
    "def newton(model, w0, n_iter=50, verbose=True):\n",
    "    \"\"\"\n",
    "    Newton algorithm\n",
    "    \"\"\"\n",
    "    w = w0.copy()\n",
    "    w_new = w0.copy()\n",
    "    n_samples, n_features = model.X.shape\n",
    "    # objective history\n",
    "    objectives = []\n",
    "    # Current objective\n",
    "    obj = model.loss(w) \n",
    "    objectives.append(obj) \n",
    "    if verbose:\n",
    "        print(\"Lauching GD solver...\")\n",
    "        print(' | '.join([name.center(8) for name in [\"it\", \"obj\"]])) \n",
    "    for k in range(n_iter + 1):\n",
    "    #######################################################################\n",
    "        w_new[:] = \n",
    "        w[:] = w_new\n",
    "    #######################################################################\n",
    "        obj = model.loss(w) \n",
    "        objectives.append(obj)\n",
    "        if k % 10 == 0 and verbose:\n",
    "            print(' | '.join([(\"%d\" % k).rjust(8), (\"%.2e\" % obj).rjust(8)]))\n",
    "    return w, np.array(objectives)"
   ]
  },
  {
   "cell_type": "code",
   "execution_count": 54,
   "metadata": {},
   "outputs": [
    {
     "name": "stdout",
     "output_type": "stream",
     "text": [
      "Lauching GD solver...\n",
      "   it    |   obj   \n",
      "       0 | 2.73e+00\n",
      "      10 | 5.75e-01\n",
      "      20 | 5.55e-01\n",
      "      30 | 5.54e-01\n",
      "      40 | 5.54e-01\n",
      "      50 | 5.54e-01\n",
      "Lauching GD solver...\n",
      "   it    |   obj   \n",
      "       0 | 1.55e+00\n",
      "      10 | 5.54e-01\n",
      "      20 | 5.54e-01\n",
      "      30 | 5.54e-01\n",
      "      40 | 5.54e-01\n",
      "      50 | 5.55e-01\n",
      "1.0465288162231445\n"
     ]
    }
   ],
   "source": [
    "w0 = np.zeros(n_features)\n",
    "n_iter = 60\n",
    "import time\n",
    "w_gd , obj_gd = gd(model_logreg,w0)\n",
    "start = time.time()\n",
    "w_newton, obj_newton =newton(model_logreg,w0)\n",
    "end = time.time()\n",
    "print(end - start)\n"
   ]
  },
  {
   "cell_type": "code",
   "execution_count": 55,
   "metadata": {},
   "outputs": [
    {
     "data": {
      "image/png": "[encoded data removed]",
      "text/plain": [
       "<matplotlib.figure.Figure at 0x121c99c50>"
      ]
     },
     "metadata": {},
     "output_type": "display_data"
    }
   ],
   "source": [
    "plt.figure(figsize=(6, 5))\n",
    "plt.yscale(\"log\")\n",
    "plt.plot(obj_gd , label=\"Gradient descent\", lw=2) \n",
    "plt.plot(obj_newton , label=\"Newton algorithm\", lw=2) \n",
    "#plt.plot(obj_agd - obj_opt, label=\"AGD\", lw=2) \n",
    "#plt.plot(obj_cd - obj_opt, label=\"CD\", lw=2) \n",
    "#plt.plot(obj_cgd - obj_opt, label=\"CGD\", lw=2) plt.xlabel(r\"$k$\", fontsize=16)\n",
    "plt.ylabel(r\"$F(x_k)$\", fontsize=16) \n",
    "plt.legend(loc='lower left')\n",
    "plt.title('Objectif')\n",
    "plt.xlim((0, n_iter))\n",
    "plt.tight_layout()\n",
    "#plt.savefig('gd_agd_cgd.pdf')"
   ]
  },
  {
   "cell_type": "markdown",
   "metadata": {},
   "source": [
    "# Descente de gradient proximal"
   ]
  },
  {
   "cell_type": "markdown",
   "metadata": {},
   "source": [
    "On retourne au cas de la régression logistique pénalisée lasso."
   ]
  },
  {
   "cell_type": "markdown",
   "metadata": {},
   "source": [
    "- Faire une nouvelle classe **logreg_l1** sur le modèle de la classe **logreg** en ajoutant un méthode  qui calcule l'opérateur proximal de la norme 1 et en changeant la méthode objectif"
   ]
  },
  {
   "cell_type": "code",
   "execution_count": 56,
   "metadata": {
    "collapsed": true
   },
   "outputs": [],
   "source": [
    "from numpy.linalg import norm\n",
    "class Logreg_l1:\n",
    "    \"\"\"       \n",
    "    Parameters\n",
    "    ----------\n",
    "    X : `numpy.array`, shape=(n_samples,n_features)\n",
    "        features\n",
    "    y : `numpy.array`, shape=(n_samples,)\n",
    "        labels\n",
    "    lamb : `float`, \n",
    "        value of the regularization parameter\n",
    "    \"\"\"\n",
    "    def __init__(self,X,y,lamb):\n",
    "        self.X = X\n",
    "        self.y = y\n",
    "        self.lamb = lamb\n",
    "        self.n_samples, self.n_features = X.shape\n",
    "\n",
    "    def loss(self,w):\n",
    "        u = self.y * self.X.dot(w) \n",
    "        return -np.sum(np.log(sigmoid(u))) / self.n_samples\n",
    "\n",
    "    def grad(self,w):\n",
    "        u = self.y * self.X.dot(w) \n",
    "        return self.X.T.dot(self.y  * (sigmoid(u) - 1)) / self.n_samples\n",
    "\n",
    "    def pen(self,w):\n",
    "        \n",
    "    \n",
    "    def prox(self,w,step):\n",
    "        \n",
    "\n",
    "    def objective(self,w):\n",
    "        return(self.loss_logreg(w) + self.pen_l1(w))\n",
    "  "
   ]
  },
  {
   "cell_type": "code",
   "execution_count": 57,
   "metadata": {},
   "outputs": [
    {
     "name": "stdout",
     "output_type": "stream",
     "text": [
      "(2000,)\n",
      "(2000, 50)\n"
     ]
    }
   ],
   "source": [
    "X,y = simu_logreg(2000)\n",
    "lamb=0\n",
    "print(y.shape)\n",
    "print(X.shape)\n",
    "model_logreg_l1 = Logreg_l1(X,y,lamb)"
   ]
  },
  {
   "cell_type": "code",
   "execution_count": 58,
   "metadata": {},
   "outputs": [
    {
     "name": "stdout",
     "output_type": "stream",
     "text": [
      "3.31780718702e-08\n"
     ]
    }
   ],
   "source": [
    "print(check_grad(model_logreg_l1.loss, model_logreg_l1.grad, params))"
   ]
  },
  {
   "cell_type": "markdown",
   "metadata": {},
   "source": [
    "Coder une fonction **pgd** qui code l'algorithme descente de gradient proximal (sur le modèle de la fonction **gd**)."
   ]
  },
  {
   "cell_type": "code",
   "execution_count": 59,
   "metadata": {
    "collapsed": true
   },
   "outputs": [],
   "source": [
    "def pgd(model, w0, step = None, n_iter=50, verbose=True):\n",
    "    \"\"\"Proximal gradient descent\n",
    "    \"\"\"\n",
    "    w = w0.copy()\n",
    "    w_new = w0.copy()\n",
    "    n_samples, n_features = model.X.shape\n",
    "    # objective history\n",
    "    objectives = []\n",
    "    # Current objective\n",
    "    obj = model.loss(w) \n",
    "    objectives.append(obj) \n",
    "    if verbose:\n",
    "        print(\"Lauching GD solver...\")\n",
    "        print(' | '.join([name.center(8) for name in [\"it\", \"obj\"]])) \n",
    "    for k in range(n_iter + 1):\n",
    "        if step == None:\n",
    "            step = 1 / (model.lip_const())\n",
    "    #######################################################################\n",
    "        w_new[:] = \n",
    "        w[:] = w_new\n",
    "    #######################################################################\n",
    "        obj = model.loss(w) \n",
    "        objectives.append(obj)\n",
    "        if k % 10 == 0 and verbose:\n",
    "            print(' | '.join([(\"%d\" % k).rjust(8), (\"%.10e\" % obj).rjust(8)]))\n",
    "    return w, np.array(objectives)"
   ]
  },
  {
   "cell_type": "code",
   "execution_count": 61,
   "metadata": {},
   "outputs": [
    {
     "name": "stdout",
     "output_type": "stream",
     "text": [
      "Lauching GD solver...\n",
      "   it    |   obj   \n",
      "       0 | 5.6169312190e-01\n",
      "      10 | 5.3936977497e-01\n",
      "      20 | 5.3918130111e-01\n",
      "      30 | 5.3917490474e-01\n",
      "      40 | 5.3917466102e-01\n",
      "      50 | 5.3917465154e-01\n"
     ]
    }
   ],
   "source": [
    "w0 = np.zeros(n_features)\n",
    "n_iter = 60\n",
    "w_pgd , obj_pgd = pgd(model_logreg_l1,w0,n_iter=50)"
   ]
  },
  {
   "cell_type": "code",
   "execution_count": 62,
   "metadata": {},
   "outputs": [
    {
     "data": {
      "image/png": "[encoded data removed]",
      "text/plain": [
       "<matplotlib.figure.Figure at 0x121b51908>"
      ]
     },
     "metadata": {},
     "output_type": "display_data"
    }
   ],
   "source": [
    "plt.figure(figsize=(6, 5))\n",
    "plt.yscale(\"log\")\n",
    "plt.plot(obj_pgd , label=\"PGC\", lw=2) \n",
    "#plt.plot(obj_agd - obj_opt, label=\"AGD\", lw=2) \n",
    "#plt.plot(obj_cd - obj_opt, label=\"CD\", lw=2) \n",
    "#plt.plot(obj_cgd - obj_opt, label=\"CGD\", lw=2) plt.xlabel(r\"$k$\", fontsize=16)\n",
    "plt.ylabel(r\"$F(x_k)$\", fontsize=16) \n",
    "plt.legend(loc='lower left')\n",
    "plt.title('Objectif')\n",
    "plt.xlim((0, n_iter))\n",
    "plt.tight_layout()\n",
    "#plt.savefig('gd_agd_cgd.pdf')"
   ]
  },
  {
   "cell_type": "markdown",
   "metadata": {},
   "source": [
    "Coder un arrêt prematuré quand $tol = 1e-03 > \\|w_{\\text{new}} - w\\|/\\|w\\|$"
   ]
  },
  {
   "cell_type": "code",
   "execution_count": 63,
   "metadata": {
    "collapsed": true
   },
   "outputs": [],
   "source": [
    "def pgd2(model, w0,  step = None,n_iter=50, verbose=True,tol=1e-02):\n",
    "    \"\"\"Proximal gradient descent\n",
    "    \"\"\"\n",
    "    w = w0.copy()\n",
    "    w_new = w0.copy()\n",
    "    n_samples, n_features = model.X.shape\n",
    "    # objective history\n",
    "    objectives = []\n",
    "    # Current objective\n",
    "    obj = model.loss(w) \n",
    "    objectives.append(obj) \n",
    "    if verbose:\n",
    "        print(\"Lauching GD solver...\")\n",
    "        print(' | '.join([name.center(8) for name in [\"it\", \"obj\"]])) \n",
    "    for k in range(n_iter + 1):\n",
    "         if step == None:\n",
    "            step = 1 / (10* model.lip_const())\n",
    "    #######################################################################\n",
    "        w_new[:] = \n",
    "        w[:] = w_new\n",
    "    #######################################################################\n",
    "        obj = model.loss(w) \n",
    "        objectives.append(obj)\n",
    "        if k % 10 == 0 and verbose:\n",
    "            print(' | '.join([(\"%d\" % k).rjust(8), (\"%.2e\" % obj).rjust(8)]))\n",
    "    return w, np.array(objectives)"
   ]
  },
  {
   "cell_type": "code",
   "execution_count": 64,
   "metadata": {},
   "outputs": [
    {
     "name": "stdout",
     "output_type": "stream",
     "text": [
      "Lauching GD solver...\n",
      "   it    |   obj   \n",
      "       0 | 6.67e-01\n",
      "      10 | 5.77e-01\n",
      "      20 | 5.58e-01\n",
      "      30 | 5.50e-01\n"
     ]
    },
    {
     "name": "stderr",
     "output_type": "stream",
     "text": [
      "/Users/agatheguilloux/anaconda/lib/python3.6/site-packages/ipykernel_launcher.py:20: RuntimeWarning: divide by zero encountered in double_scalars\n"
     ]
    }
   ],
   "source": [
    "w_pgd2 , obj_pgd2 = pgd2(model_logreg_l1,w0)"
   ]
  },
  {
   "cell_type": "code",
   "execution_count": 65,
   "metadata": {},
   "outputs": [
    {
     "data": {
      "image/png": "[encoded data removed]",
      "text/plain": [
       "<matplotlib.figure.Figure at 0x120b53dd8>"
      ]
     },
     "metadata": {},
     "output_type": "display_data"
    }
   ],
   "source": [
    "plt.figure(figsize=(6, 5))\n",
    "plt.yscale(\"log\")\n",
    "plt.plot(obj_pgd2 , label=\"PGC\", lw=2) \n",
    "#plt.plot(obj_agd - obj_opt, label=\"AGD\", lw=2) \n",
    "#plt.plot(obj_cd - obj_opt, label=\"CD\", lw=2) \n",
    "#plt.plot(obj_cgd - obj_opt, label=\"CGD\", lw=2) plt.xlabel(r\"$k$\", fontsize=16)\n",
    "plt.ylabel(r\"$F(x_k)$\", fontsize=16) \n",
    "plt.legend(loc='lower left')\n",
    "plt.title('Objectif')\n",
    "plt.xlim((0, n_iter))\n",
    "plt.tight_layout()\n",
    "#plt.savefig('gd_agd_cgd.pdf')"
   ]
  },
  {
   "cell_type": "markdown",
   "metadata": {},
   "source": [
    "# Descente de gradient stochastique proximal"
   ]
  },
  {
   "cell_type": "code",
   "execution_count": null,
   "metadata": {
    "collapsed": true
   },
   "outputs": [],
   "source": [
    "- Coder un algorithme de descente de gradient stochastique proximal pour ce problème\n",
    "- Comparer ses performances au PGD classique"
   ]
  },
  {
   "cell_type": "markdown",
   "metadata": {},
   "source": [
    "# ADMM "
   ]
  },
  {
   "cell_type": "code",
   "execution_count": null,
   "metadata": {
    "collapsed": true
   },
   "outputs": [],
   "source": [
    "- Coder un algorithme ADMM pour ce problème\n",
    "- Comparer ses performances au PGD classique et au SPGD"
   ]
  }
 ],
 "metadata": {
  "kernelspec": {
   "display_name": "Python 3",
   "language": "python",
   "name": "python3"
  },
  "language_info": {
   "codemirror_mode": {
    "name": "ipython",
    "version": 3
   },
   "file_extension": ".py",
   "mimetype": "text/x-python",
   "name": "python",
   "nbconvert_exporter": "python",
   "pygments_lexer": "ipython3",
   "version": "3.6.1"
  }
 },
 "nbformat": 4,
 "nbformat_minor": 1
}
