{
 "cells": [
  {
   "cell_type": "markdown",
   "metadata": {},
   "source": [
    "\n",
    "<hr style=\"border-width:2px;border-color:#A93226\">\n",
    "\n",
    "# <div align=\"center\">TP: Optimisation: Méthodes d'optimisation pour la régression logistique pénalisée lasso</div>\n",
    "\n",
    "\n",
    "<hr style=\"border-width:2px;border-color:#A93226\">"
   ]
  },
  {
   "cell_type": "markdown",
   "metadata": {},
   "source": [
    "## <div align=\"center\">Odélia Guedj et Thomas Marcoux Pépin </div>\n",
    "### <div align=\"center\">18/01/2020 </div>\n",
    "### <div align=\"center\">M2 Data Science </div>\n",
    "\n"
   ]
  },
  {
   "cell_type": "markdown",
   "metadata": {},
   "source": [
    "## Contexte"
   ]
  },
  {
   "cell_type": "markdown",
   "metadata": {},
   "source": [
    "On veut comparer les algorithmes ISTA, FISTA, ADMM et SGD sur la régression logistique pénalisée lasso."
   ]
  },
  {
   "cell_type": "markdown",
   "metadata": {},
   "source": [
    "On considère que l'on observe les couples $(y_i,X_i)$ avec $y_i \\in \\{ -1, 1\\}$ et $X_i \\in \\mathbb R^p$."
   ]
  },
  {
   "cell_type": "markdown",
   "metadata": {},
   "source": [
    "On a:\n",
    "* $\\mathbb{P}(y_i = 1|X_i) =\\sigma(X_i\\beta) =\\frac{\\exp(X_i\\beta)}{1+\\exp(X_i\\beta)} = \\frac{1}{1+\\exp(-X_i\\beta)} = \\frac{1}{1+\\exp(-y_i X_i\\beta)}$ puisque $y_i = 1$\n",
    "* $\\mathbb{P}(y_i = -1|X_i) = 1 - \\sigma(X_i\\beta) =\\frac{1}{1+\\exp(X_i\\beta)} = \\frac{1}{1+\\exp(- y_i X_i\\beta)}$ puisque $y_i = -1$"
   ]
  },
  {
   "cell_type": "markdown",
   "metadata": {},
   "source": [
    "Ainsi la vraisemblance au point $\\beta \\in \\mathbb R^p$ est donnée par \n",
    "$$\n",
    "\\prod_{i=1}^n \\frac{1}{1+\\exp(-y_i X_i \\beta)}.\n",
    "$$"
   ]
  },
  {
   "cell_type": "markdown",
   "metadata": {},
   "source": [
    "On veut donc résoudre\n",
    "$$\n",
    "\\arg\\min_\\beta \\frac{1}{n}\\sum_{i=1}^n \\log\\big(1 + \\exp(-y_i X_i \\beta) \\big)+  \\lambda\\| \\beta \\|_{\\ell_1}\n",
    "$$\n",
    "\n"
   ]
  },
  {
   "cell_type": "code",
   "execution_count": 1,
   "metadata": {},
   "outputs": [],
   "source": [
    "from numpy.random import multivariate_normal\n",
    "from scipy.linalg.special_matrices import toeplitz\n",
    "import numpy as np\n",
    "import matplotlib.pylab as plt\n",
    "\n",
    "%matplotlib inline\n",
    "\n",
    "from numpy.random import binomial\n",
    "from numpy.linalg import norm\n",
    "import time\n",
    "from numpy.linalg import norm\n"
   ]
  },
  {
   "cell_type": "markdown",
   "metadata": {},
   "source": [
    "## Simulation dans un modèle logistique"
   ]
  },
  {
   "cell_type": "markdown",
   "metadata": {},
   "source": [
    "### Choix des valeurs de $n$ et $p$"
   ]
  },
  {
   "cell_type": "code",
   "execution_count": 2,
   "metadata": {},
   "outputs": [],
   "source": [
    "n_features = 50\n",
    "n_samples = 2000"
   ]
  },
  {
   "cell_type": "markdown",
   "metadata": {},
   "source": [
    "### Choix des valeurs de $\\beta^\\star$"
   ]
  },
  {
   "cell_type": "markdown",
   "metadata": {},
   "source": [
    "On pose $\\beta^\\star_j = (-1)^{j-1}\\cdot \\exp(\\frac{-(j-1)}{10})$."
   ]
  },
  {
   "cell_type": "code",
   "execution_count": 3,
   "metadata": {},
   "outputs": [
    {
     "name": "stderr",
     "output_type": "stream",
     "text": [
      "D:\\Programmes\\Anaconda3\\lib\\site-packages\\ipykernel_launcher.py:4: UserWarning: In Matplotlib 3.3 individual lines on a stem plot will be added as a LineCollection instead of individual lines. This significantly improves the performance of a stem plot. To remove this warning and switch to the new behaviour, set the \"use_line_collection\" keyword argument to True.\n",
      "  after removing the cwd from sys.path.\n"
     ]
    },
    {
     "data": {
      "text/plain": [
       "Text(0.5, 1.0, 'Parameters')"
      ]
     },
     "execution_count": 3,
     "metadata": {},
     "output_type": "execute_result"
    },
    {
     "data": {
      "image/png": "[encoded data removed]",
      "text/plain": [
       "<Figure size 432x288 with 1 Axes>"
      ]
     },
     "metadata": {
      "needs_background": "light"
     },
     "output_type": "display_data"
    }
   ],
   "source": [
    "idx = np.arange(n_features)\n",
    "params = (-1) ** idx  * np.exp(-idx / 10.)\n",
    "params[20:] = 0.\n",
    "plt.stem(params)\n",
    "plt.title(\"Parameters\")"
   ]
  },
  {
   "cell_type": "markdown",
   "metadata": {},
   "source": [
    "### Simulation de la matrice X (features)"
   ]
  },
  {
   "cell_type": "code",
   "execution_count": 4,
   "metadata": {},
   "outputs": [],
   "source": [
    "# Correlation\n",
    "rho = 0.1\n",
    "\n",
    "# Matrice de covariance Toeplitz : 1 sur la diag et répétition des colonnes\n",
    "np.set_printoptions(precision=2) # pour simplifier l'affichage, 2 décimales\n",
    "cov = toeplitz(rho ** np.arange(0, n_features))\n",
    "\n",
    "# Simulation d'un vecteur gaussien de taille n avec cette matrice de covariance\n",
    "features = multivariate_normal(np.zeros(n_features), cov, size=n_samples)"
   ]
  },
  {
   "cell_type": "markdown",
   "metadata": {},
   "source": [
    "$X \\sim \\mathcal{N}(0,\\Sigma)$ où $\\Sigma$ = cov"
   ]
  },
  {
   "cell_type": "markdown",
   "metadata": {},
   "source": [
    "Le Lasso donne de mauvais résultats lorsqu'il y a beaucoup de corrélation entre les variables. C'est pourquoi on choisit $\\rho$ petit."
   ]
  },
  {
   "cell_type": "markdown",
   "metadata": {},
   "source": [
    "### Simulations des $y_i$"
   ]
  },
  {
   "cell_type": "markdown",
   "metadata": {},
   "source": [
    "**Fontion sigmoïd**: Pour éviter les overflows on différencie les cas positifs des cas négatifs."
   ]
  },
  {
   "cell_type": "markdown",
   "metadata": {},
   "source": [
    "* Si $t \\leq 0$, $\\sigma(t) = \\frac{\\exp(t)}{1 + \\exp(t)}$\n",
    "* Si $t \\geq 0$, $\\sigma(t) = \\frac{1}{1+\\exp(-t)} $\n"
   ]
  },
  {
   "cell_type": "code",
   "execution_count": 5,
   "metadata": {},
   "outputs": [],
   "source": [
    "def sigmoid(t):\n",
    "    idx = t>0\n",
    "    out = np.empty(t.size)\n",
    "    out[idx] = 1/ (1. + np.exp(-t[idx]))\n",
    "    exp_t = np.exp((t[~idx]))\n",
    "    out[~idx] = exp_t / (1. + exp_t)\n",
    "    return out"
   ]
  },
  {
   "cell_type": "markdown",
   "metadata": {},
   "source": [
    "**Fonction simu_log_reg**: pour $n$, $\\beta^\\star$ et $\\rho$ renvoie une matrice de features et un vecteur de labels."
   ]
  },
  {
   "cell_type": "markdown",
   "metadata": {},
   "source": [
    "Transformation nécessaire: la Régression Logistique suppose $Y \\in \\{0,1\\}$ alors qu'ici $Y \\in \\{-1,1\\}$.  \n",
    "On pose alors:\n",
    "$$2Y_{i,logit}-1 = Y_i$$\n",
    "Ainsi si $Y_{i,logit}$ vaut 1, $Y_i$ vaut 1 et si $Y_{i,logit}$ vaut 0, $Y_i$ vaut -1.\n"
   ]
  },
  {
   "cell_type": "code",
   "execution_count": 6,
   "metadata": {},
   "outputs": [],
   "source": [
    "def simu_logreg(n_samples,params=params,rho=0.1):\n",
    "    \"\"\" simulation in a logistic regression model \n",
    "    \n",
    "    Parameters\n",
    "    ----------\n",
    "    coefs : `numpy.array`, shape=(n_features,)\n",
    "        Coefficients of the model\n",
    "    n_samples : `int`, \n",
    "        Number of samples to simulate\n",
    "    rho : `float`, default=0.1\n",
    "        Correlation of the features\n",
    "        \n",
    "    Returns\n",
    "    -------\n",
    "    X : `numpy.ndarray`, shape=(n_samples, n_features)\n",
    "        Simulated features matrix. It samples of a centered Gaussian\n",
    "        vector with covariance given by the Toeplitz matrix\n",
    "    y : `numpy.array`, shape=(n_samples,)\n",
    "        Simulated labels\n",
    "    \"\"\"\n",
    "    \n",
    "    n_features = params.size\n",
    "    \n",
    "    cov = toeplitz(rho ** np.arange(0, n_features))\n",
    "    \n",
    "    features = multivariate_normal(np.zeros(n_features), cov, size=n_samples)\n",
    "    \n",
    "    pis = sigmoid(features.dot(params))\n",
    "    \n",
    "    labels = 2 *  binomial(1,pis, n_samples) - 1\n",
    "    \n",
    "    return((features,labels))"
   ]
  },
  {
   "cell_type": "markdown",
   "metadata": {},
   "source": [
    "Application:"
   ]
  },
  {
   "cell_type": "code",
   "execution_count": 7,
   "metadata": {},
   "outputs": [
    {
     "name": "stdout",
     "output_type": "stream",
     "text": [
      "(2000,)\n",
      "(2000, 50)\n"
     ]
    }
   ],
   "source": [
    "X,y = simu_logreg(2000)\n",
    "print(y.shape)\n",
    "print(X.shape)"
   ]
  },
  {
   "cell_type": "markdown",
   "metadata": {},
   "source": [
    "## Objectif: gradient sans lasso (quand $\\lambda=0$)"
   ]
  },
  {
   "cell_type": "markdown",
   "metadata": {},
   "source": [
    "**Classe Logreg:** Calcule:\n",
    "* la loss, \n",
    "* le gradient de la loss, \n",
    "* le hessien de la loss, \n",
    "* l'objectif du modèle\n",
    "* la constante de lipschitz"
   ]
  },
  {
   "cell_type": "markdown",
   "metadata": {},
   "source": [
    "**Fonction de coût** \n",
    "(Les paramètres sont notés $w$ dans cette section).\n"
   ]
  },
  {
   "cell_type": "markdown",
   "metadata": {},
   "source": [
    "$\n",
    "\\begin{aligned}\n",
    "loss(w,X,y) &= \\frac{1}{n} \\sum_{i = 1}^n \\log\\left(1+\\exp(-y_i X_i^T w)\\right) \\\\ &= \\frac{-1}{n}\\sum_{i = 1}^n \\log \\left(\\frac{1}{1+\\exp(-y_i X_i^T w)}\\right)\\\\ &= \\frac{-1}{n}\\sum_{i = 1}^n \\log \\left( \\sigma(y_i X_i^T w) \\right) \\\\ &= \\frac{-1}{n}\\sum_{i = 1}^n \\log(\\frac{\\exp(y_i X_i^T w)}{1 + \\exp(y_i X_i^T w)}) \\\\ & = \\frac{1}{n}\\sum_{i = 1}^n \\log(1 + \\exp(y_i X_i^T w)) - y_i X_i^T w\n",
    "\\end{aligned}\n",
    "$"
   ]
  },
  {
   "cell_type": "markdown",
   "metadata": {},
   "source": [
    "**Dérivée de la sigmoid**"
   ]
  },
  {
   "cell_type": "markdown",
   "metadata": {},
   "source": [
    "Or, $$\\sigma(t) = \\frac{\\exp(t)}{1+\\exp(t)}$$ donc $$\\sigma '(t) = \\sigma(t)(1-\\sigma(t))$$"
   ]
  },
  {
   "cell_type": "markdown",
   "metadata": {},
   "source": [
    "**Gradient de la loss**"
   ]
  },
  {
   "cell_type": "markdown",
   "metadata": {},
   "source": [
    "$\n",
    "\\begin{aligned}\n",
    "\\nabla_w loss(w,X,y) &= \\frac{-1}{n}\\sum_{i = 1}^n \\nabla_w \\log \\sigma(y_i X_i^T w) \\\\ &= \\frac{-1}{n}\\sum_{i = 1}^n \\frac{\\nabla_w \\sigma(y_i X_i^T w)}{\\sigma(y_i X_i^T w)} \\\\ &= \\frac{-1}{n}\\sum_{i = 1}^n \\frac{y_i X_i^T \\sigma(y_i X_i^T w)(1-\\sigma(y_i X_i^T w))}{\\sigma(y_i X_i^T w)} \\\\ &= \\frac{-1}{n}\\sum_{i = 1}^n y_i X_i^T (1-\\sigma(y_i X_i^T w))\n",
    "\\end{aligned}\n",
    "$"
   ]
  },
  {
   "cell_type": "markdown",
   "metadata": {},
   "source": [
    "**Hessien de la loss**"
   ]
  },
  {
   "cell_type": "markdown",
   "metadata": {},
   "source": [
    "$ \\begin{aligned}\n",
    "\\nabla^2_w loss(w,X,y) &=\\nabla_w \\left( \\frac{-1}{n}\\sum_{i = 1}^n y_i X_i^T (1-\\sigma(y_i X_i w))\\right) \\\\ &= \\frac{-1}{n}\\sum_{i = 1}^n y_i X_i^T \\nabla_w(1-\\sigma(y_i X_i w))\\\\ &= \\frac{1}{n}\\sum_{i = 1}^n y_i X_i^T \\nabla_w \\sigma(y_i X_i w)\\\\ &= \\sum_{i = 1}^n (y_i X_i^T)(y_i X_i^T)^T \\sigma(y_i X_i w)(1-\\sigma(y_i X_i w)) \\\\ & = \\sum_{i = 1}^n X_i^T X_i \\sigma(y_i X_i w)(1-\\sigma(y_i X_i w))\n",
    "\\end{aligned}\n",
    "$"
   ]
  },
  {
   "cell_type": "markdown",
   "metadata": {},
   "source": [
    "Car $\\forall i = 1,...,n ~ y_i^2 = 1$"
   ]
  },
  {
   "cell_type": "markdown",
   "metadata": {},
   "source": [
    "Pour l'implémentation on se sert de la fonction diag() en $\\sigma(y_i X_i w)(1-\\sigma(y_i X_i w))$ : produit élément par élément."
   ]
  },
  {
   "cell_type": "markdown",
   "metadata": {},
   "source": [
    "https://medium.com/@papillonbee/logistic-regression-from-scratch-with-gradient-descent-and-newtons-method-ff4307e3cb30"
   ]
  },
  {
   "cell_type": "markdown",
   "metadata": {},
   "source": [
    "**Constante de lipschitz**"
   ]
  },
  {
   "cell_type": "markdown",
   "metadata": {},
   "source": [
    "$\n",
    "\\begin{aligned}\n",
    "    \\left| \\frac{-1}{n}\\sum_{i = 1}^n y_i X_i^T (1-\\sigma(y_i X_i w)) + \\frac{-1}{n}\\sum_{i = 1}^n y_i X_i^T (1-\\sigma(y_i X_i  \\tilde{w})) \\right| &= \\frac{1}{n} \\left| \\sum_{i = 1}^n y_i X_i^T \\left( \\sigma(y_i X_i  \\tilde{w}) - \\sigma(y_i X_i w) \\right) \\right| \\\\ &\\leq \\frac{1}{n} \\frac{1}{4} \\sum_{i = 1}^n \\left| X_i^T X_i y_i^2 \\right| = \\frac{1}{n} \\frac{1}{4} = \\|X_i \\|^2 |w-\\tilde{w}|\n",
    "\\end{aligned}\n",
    "$"
   ]
  },
  {
   "cell_type": "code",
   "execution_count": 8,
   "metadata": {},
   "outputs": [],
   "source": [
    "class Logreg:\n",
    "    \"\"\"       \n",
    "    Parameters\n",
    "    ----------\n",
    "    X : `numpy.array`, shape=(n_samples,n_features)\n",
    "        features\n",
    "    y : `numpy.array`, shape=(n_samples,)\n",
    "        labels\n",
    "    lamb : `float`, \n",
    "        value of the regularization parameter\n",
    "    \"\"\"\n",
    "    def __init__(self,X,y,lamb): #initialisation\n",
    "        self.X = X\n",
    "        self.y = y\n",
    "        self.lamb = lamb\n",
    "        self.n_samples, self.n_features = X.shape\n",
    "\n",
    "    def loss(self,w):  #calcul de la loss\n",
    "        u = self.y * self.X.dot(w) \n",
    "        return -np.sum(np.log(sigmoid(u))) / self.n_samples\n",
    "\n",
    "    def grad(self,w): #calcul du gradient de la loss\n",
    "        u = self.y * self.X.dot(w) \n",
    "        return self.X.T.dot(self.y  * (sigmoid(u) - 1)) / self.n_samples\n",
    "\n",
    "    def objective(self,w): #calcul de l'objectif du modèle\n",
    "        return(self.loss_logreg(w))\n",
    "    \n",
    "    def lip_const(self): #calcul de la constante de lipschitz\n",
    "        return np.sum(norm(self.X, axis = 0, ord = 2))/ (4*self.n_samples)\n",
    "    \n",
    "    def hessian(self,w): #calcul du hessien de la loss\n",
    "        u = self.y * self.X.dot(w)\n",
    "        v = sigmoid(u)*(1-sigmoid(u))\n",
    "        return X.T.dot(np.diag(v)).dot(X)/self.n_samples"
   ]
  },
  {
   "cell_type": "markdown",
   "metadata": {},
   "source": [
    "Application:"
   ]
  },
  {
   "cell_type": "code",
   "execution_count": 9,
   "metadata": {},
   "outputs": [
    {
     "name": "stdout",
     "output_type": "stream",
     "text": [
      "Constante de Lipschitz pour le model_logreg: 2.79e-01\n"
     ]
    }
   ],
   "source": [
    "np.set_printoptions(precision=2)\n",
    "model_logreg = Logreg(X,y,0.1)\n",
    "print('Constante de Lipschitz pour le model_logreg:', (\"%.2e\" % model_logreg.lip_const()).rjust(8))"
   ]
  },
  {
   "cell_type": "markdown",
   "metadata": {},
   "source": [
    "On vérifie que la méthode implémentée dans python nous donne des résultats similaires pour le calcul du gradient."
   ]
  },
  {
   "cell_type": "code",
   "execution_count": 10,
   "metadata": {},
   "outputs": [
    {
     "name": "stdout",
     "output_type": "stream",
     "text": [
      "Différence entre le gradient caculé par python et par notre classe Logreg: 1.5834255960350702e-08\n"
     ]
    }
   ],
   "source": [
    "from scipy.optimize import check_grad\n",
    "print('Différence entre le gradient caculé par python et par notre classe Logreg:', check_grad(model_logreg.loss, model_logreg.grad, params))"
   ]
  },
  {
   "cell_type": "markdown",
   "metadata": {},
   "source": [
    "# Descente de gradient et algorithme de Newton"
   ]
  },
  {
   "cell_type": "markdown",
   "metadata": {},
   "source": [
    "L'algorithme de descente de gradient est un algorithme itératif qui cherche à minimiser une fonction convexe.\n",
    "A chaque itération $q$, on fait un pas dans la direction qui fait décroitre le plus vite la fonction à minimiser.\n",
    "Dans notre contexte on cherche à minimiser la loss:"
   ]
  },
  {
   "cell_type": "code",
   "execution_count": 11,
   "metadata": {},
   "outputs": [],
   "source": [
    "def gd(model, w0, step = None, n_iter=50, verbose=True):\n",
    "    \"\"\"\n",
    "    Gradient descent\n",
    "    \"\"\"\n",
    "    w = w0.copy()\n",
    "    w_new = w0.copy()\n",
    "    n_samples, n_features = model.X.shape\n",
    "    # objective history\n",
    "    objectives = []\n",
    "    # Current objective\n",
    "    obj = model.loss(w) \n",
    "    objectives.append(obj) \n",
    "    if verbose:\n",
    "        print(\"Lauching GD solver...\")\n",
    "        print(' | '.join([name.center(8) for name in [\"it\", \"obj\"]])) \n",
    "    for k in range(n_iter + 1):\n",
    "        if step==None:\n",
    "            step = 1/model.lip_const()\n",
    "    #######################################################################\n",
    "        w_new[:] = w - step*model.grad(w)\n",
    "        w[:] = w_new \n",
    "    #######################################################################\n",
    "        obj = model.loss(w) \n",
    "        objectives.append(obj)\n",
    "        if k % 10 == 0 and verbose:\n",
    "            print(' | '.join([(\"%d\" % k).rjust(8), (\"%.2e\" % obj).rjust(8)]))\n",
    "    return w, np.array(objectives)"
   ]
  },
  {
   "cell_type": "code",
   "execution_count": 12,
   "metadata": {},
   "outputs": [],
   "source": [
    "def newton(model, w0,n_iter=50, verbose=True):\n",
    "    \"\"\"\n",
    "    Newton algorithm\n",
    "    \"\"\"\n",
    "    w = w0.copy()\n",
    "    w_new = w0.copy()\n",
    "    n_samples, n_features = model.X.shape\n",
    "    # objective history\n",
    "    objectives = []\n",
    "    # Current objective\n",
    "    obj = model.loss(w) \n",
    "    objectives.append(obj) \n",
    "    if verbose:\n",
    "        print(\"Lauching Newton Algorithm (with GD solver) ...\")\n",
    "        print(' | '.join([name.center(8) for name in [\"it\", \"obj\"]])) \n",
    "    for k in range(n_iter + 1):\n",
    "    #######################################################################\n",
    "        w_new[:] = w - np.linalg.inv(model.hessian(w)).dot(model.grad(w))\n",
    "        w[:] = w_new\n",
    "    #######################################################################\n",
    "        obj = model.loss(w) \n",
    "        objectives.append(obj)\n",
    "        if k % 10 == 0 and verbose:\n",
    "            print(' | '.join([(\"%d\" % k).rjust(8), (\"%.2e\" % obj).rjust(8)]))\n",
    "    return w, np.array(objectives)"
   ]
  },
  {
   "cell_type": "code",
   "execution_count": 13,
   "metadata": {},
   "outputs": [
    {
     "name": "stdout",
     "output_type": "stream",
     "text": [
      "Lauching GD solver...\n",
      "   it    |   obj   \n",
      "       0 | 5.10e-01\n",
      "      10 | 4.58e-01\n",
      "      20 | 4.58e-01\n",
      "      30 | 4.58e-01\n",
      "      40 | 4.58e-01\n",
      "      50 | 4.58e-01\n",
      "Lauching Newton Algorithm (with GD solver) ...\n",
      "   it    |   obj   \n",
      "       0 | 4.84e-01\n",
      "      10 | 4.58e-01\n",
      "      20 | 4.58e-01\n",
      "      30 | 4.58e-01\n",
      "      40 | 4.58e-01\n",
      "      50 | 4.58e-01\n",
      "Temps de calcul par l'algorithme de Newton: 1.098 sec\n"
     ]
    }
   ],
   "source": [
    "w0 = np.zeros(n_features)\n",
    "n_iter = 60\n",
    "\n",
    "w_gd , obj_gd = gd(model_logreg,w0)\n",
    "\n",
    "start = time.time()\n",
    "\n",
    "w_newton, obj_newton =newton(model_logreg,w0)\n",
    "\n",
    "end = time.time()\n",
    "\n",
    "\n",
    "print(\"Temps de calcul par l'algorithme de Newton:\", round(end - start,3), \"sec\")\n"
   ]
  },
  {
   "cell_type": "code",
   "execution_count": 14,
   "metadata": {},
   "outputs": [
    {
     "data": {
      "image/png": "[encoded data removed]",
      "text/plain": [
       "<Figure size 432x360 with 1 Axes>"
      ]
     },
     "metadata": {
      "needs_background": "light"
     },
     "output_type": "display_data"
    }
   ],
   "source": [
    "plt.figure(figsize=(6, 5))\n",
    "plt.yscale(\"log\")\n",
    "plt.plot(obj_gd , label=\"Gradient descent\", lw=2) \n",
    "plt.plot(obj_newton , label=\"Newton algorithm\", lw=2) \n",
    "#plt.plot(obj_agd - obj_opt, label=\"AGD\", lw=2) \n",
    "#plt.plot(obj_cd - obj_opt, label=\"CD\", lw=2) \n",
    "#plt.plot(obj_cgd - obj_opt, label=\"CGD\", lw=2) plt.xlabel(r\"$k$\", fontsize=16)\n",
    "plt.ylabel(r\"$F(x_k)$\", fontsize=16) \n",
    "plt.xlabel('Iterations')\n",
    "plt.legend(loc='upper right')\n",
    "plt.title('Objectif')\n",
    "plt.xlim((0, n_iter))\n",
    "plt.tight_layout()\n",
    "#plt.savefig('gd_agd_cgd.pdf')"
   ]
  },
  {
   "cell_type": "markdown",
   "metadata": {},
   "source": [
    "On remarque que, pour les 10 premières itérations, l'algorithme de Newton est plus précis que la descente de gradient. Pour $q>10$ les résultats des deux méthodes sont semblables."
   ]
  },
  {
   "cell_type": "markdown",
   "metadata": {},
   "source": [
    "# Descente de gradient proximal"
   ]
  },
  {
   "cell_type": "markdown",
   "metadata": {},
   "source": [
    "On retourne au cas de la régression logistique pénalisée lasso."
   ]
  },
  {
   "cell_type": "markdown",
   "metadata": {},
   "source": [
    "**Classe logreg_l1**: Similaire à **logreg** avec ajout d'une méthode  qui calcule l'opérateur proximal de la norme 1, en changeant la méthode objectif."
   ]
  },
  {
   "cell_type": "code",
   "execution_count": 15,
   "metadata": {},
   "outputs": [],
   "source": [
    "class Logreg_l1:\n",
    "    \"\"\"       \n",
    "    Parameters\n",
    "    ----------\n",
    "    X : `numpy.array`, shape=(n_samples,n_features)\n",
    "        features\n",
    "    y : `numpy.array`, shape=(n_samples,)\n",
    "        labels\n",
    "    lamb : `float`, \n",
    "        value of the regularization parameter\n",
    "    \"\"\"\n",
    "    def __init__(self,X,y,lamb): #initialisation\n",
    "        self.X = X\n",
    "        self.y = y\n",
    "        self.lamb = lamb\n",
    "        self.n_samples, self.n_features = X.shape\n",
    "\n",
    "    def loss(self,w): #calcul de la loss\n",
    "        u = self.y * self.X.dot(w) \n",
    "        return -np.sum(np.log(sigmoid(u))) / self.n_samples\n",
    "\n",
    "    def grad(self,X,y,w): #calcul du gradient\n",
    "        u = self.y * self.X.dot(w) \n",
    "        return self.X.T.dot(self.y  * (sigmoid(u) - 1)) / self.n_samples\n",
    "\n",
    "    def pen(self,w): #calcul de la pénalité\n",
    "        return self.lamb*norm(w,1)        \n",
    "    \n",
    "    def prox(self,w,step): #calcul de l'operateur proximal\n",
    "        return np.sign(w)*(np.abs(w) - self.lamb)*(np.abs(w) > self.lamb)\n",
    "\n",
    "    def objective(self,w): #calcul de l'objectif\n",
    "        return(self.loss_logreg(w) + self.pen_l1(w))\n",
    "    \n",
    "    def lip_const(self,w): #calcul de la constante de lipschitz\n",
    "        return np.sum(norm(self.X,2,axis=0)) / (4*self.n_samples)  \n",
    " "
   ]
  },
  {
   "cell_type": "code",
   "execution_count": 16,
   "metadata": {},
   "outputs": [
    {
     "name": "stdout",
     "output_type": "stream",
     "text": [
      "(2000,)\n",
      "(2000, 50)\n"
     ]
    }
   ],
   "source": [
    "X,y = simu_logreg(2000)\n",
    "lamb=0\n",
    "print(y.shape)\n",
    "print(X.shape)\n",
    "\n",
    "model_logreg_l1 = Logreg_l1(X,y,lamb)"
   ]
  },
  {
   "cell_type": "markdown",
   "metadata": {},
   "source": [
    "La fonction  **pgd** code l'algorithme de descente de gradient proximal (sur le modèle de la fonction **gd**)."
   ]
  },
  {
   "cell_type": "code",
   "execution_count": 17,
   "metadata": {},
   "outputs": [],
   "source": [
    "def pgd(model, w0, step = None, n_iter=50, verbose=True):\n",
    "    \"\"\"Proximal gradient descent\n",
    "    \"\"\"\n",
    "    w = w0.copy()\n",
    "    w_new = w0.copy()\n",
    "    n_samples, n_features = model.X.shape\n",
    "    # objective history\n",
    "    objectives = []\n",
    "    # Current objective\n",
    "    obj = model.loss(w) \n",
    "    objectives.append(obj) \n",
    "    if verbose:\n",
    "        print(\"Lauching GD solver...\")\n",
    "        print(' | '.join([name.center(8) for name in [\"it\", \"obj\"]])) \n",
    "    for k in range(n_iter + 1):\n",
    "        if step == None:\n",
    "            step = 1 / (model.lip_const(w))\n",
    "    #######################################################################\n",
    "        w_new[:] = model.prox(w - step*model.grad(X,y,w), step)\n",
    "        w[:] = w_new\n",
    "    #######################################################################\n",
    "        obj = model.loss(w) \n",
    "        objectives.append(obj)\n",
    "        if k % 10 == 0 and verbose:\n",
    "            print(' | '.join([(\"%d\" % k).rjust(8), (\"%.10e\" % obj).rjust(8)]))\n",
    "    return w, np.array(objectives)"
   ]
  },
  {
   "cell_type": "code",
   "execution_count": 18,
   "metadata": {},
   "outputs": [
    {
     "name": "stdout",
     "output_type": "stream",
     "text": [
      "Lauching GD solver...\n",
      "   it    |   obj   \n",
      "       0 | 4.8731772484e-01\n",
      "      10 | 4.2211430402e-01\n",
      "      20 | 4.2126462175e-01\n",
      "      30 | 4.2122552364e-01\n",
      "      40 | 4.2122344260e-01\n",
      "      50 | 4.2122332835e-01\n"
     ]
    }
   ],
   "source": [
    "w0 = np.zeros(n_features)\n",
    "n_iter = 60\n",
    "w_pgd , obj_pgd = pgd(model_logreg_l1,w0,n_iter=50)"
   ]
  },
  {
   "cell_type": "code",
   "execution_count": 19,
   "metadata": {},
   "outputs": [
    {
     "data": {
      "image/png": "[encoded data removed]",
      "text/plain": [
       "<Figure size 432x360 with 1 Axes>"
      ]
     },
     "metadata": {
      "needs_background": "light"
     },
     "output_type": "display_data"
    }
   ],
   "source": [
    "plt.figure(figsize=(6, 5))\n",
    "plt.yscale(\"log\")\n",
    "plt.plot(obj_pgd , label=\"PGC\", lw=2) \n",
    "#plt.plot(obj_agd - obj_opt, label=\"AGD\", lw=2) \n",
    "#plt.plot(obj_cd - obj_opt, label=\"CD\", lw=2) \n",
    "#plt.plot(obj_cgd - obj_opt, label=\"CGD\", lw=2) plt.xlabel(r\"$k$\", fontsize=16)\n",
    "plt.ylabel(r\"$F(x_k)$\", fontsize=16) \n",
    "plt.legend(loc='upper right')\n",
    "plt.xlabel('Iterations')\n",
    "plt.title('Objectif')\n",
    "plt.xlim((0, n_iter))\n",
    "plt.tight_layout()\n",
    "#plt.savefig('gd_agd_cgd.pdf')"
   ]
  },
  {
   "cell_type": "markdown",
   "metadata": {},
   "source": [
    "On peut également décider de provoquer un arrêt prematuré quand $tol = 10^{-3} > \\frac{\\|w_{\\text{new}} - w\\|}{\\|w\\|}$"
   ]
  },
  {
   "cell_type": "code",
   "execution_count": 20,
   "metadata": {},
   "outputs": [],
   "source": [
    "def pgd2(model, w0, step = None, n_iter=50, verbose=True, eps=1e-03):\n",
    "    \"\"\"Proximal gradient descent\n",
    "    \"\"\"\n",
    "    w = w0.copy()\n",
    "    w_new = w0.copy()\n",
    "    n_samples, n_features = model.X.shape\n",
    "    # objective history\n",
    "    objectives = []\n",
    "    # Current objective\n",
    "    obj = model.loss(w) \n",
    "    objectives.append(obj) \n",
    "    if verbose:\n",
    "        print(\"Lauching GD solver...\")\n",
    "        print(' | '.join([name.center(8) for name in [\"it\", \"obj\"]])) \n",
    "    for k in range(n_iter + 1):\n",
    "         if step == None:\n",
    "            step = 1 / (10* model.lip_const(w))\n",
    "    #######################################################################\n",
    "         w_new[:] = model.prox(w - step*model.grad(X,y,w), step)\n",
    "         while((np.abs(w_new - w)/ np.abs(w)).all()>= eps): \n",
    "            w[:] = w_new\n",
    "    #######################################################################\n",
    "            obj = model.loss(w) \n",
    "            objectives.append(obj)         \n",
    "            if k % 10 == 0 and verbose:  \n",
    "                print(' | '.join([(\"%d\" % k).rjust(8), (\"%.2e\" % obj).rjust(8)]))                  \n",
    "                     \n",
    "            return w, np.array(objectives)"
   ]
  },
  {
   "cell_type": "code",
   "execution_count": 40,
   "metadata": {},
   "outputs": [
    {
     "name": "stdout",
     "output_type": "stream",
     "text": [
      "Lauching GD solver...\n",
      "   it    |   obj   \n",
      "       0 | 3.14e+00\n"
     ]
    }
   ],
   "source": [
    "w_pgd2 , obj_pgd2 = pgd2(model_logreg_l1, w0)"
   ]
  },
  {
   "cell_type": "code",
   "execution_count": 45,
   "metadata": {},
   "outputs": [
    {
     "data": {
      "image/png": "[encoded data removed]",
      "text/plain": [
       "<Figure size 432x360 with 1 Axes>"
      ]
     },
     "metadata": {
      "needs_background": "light"
     },
     "output_type": "display_data"
    }
   ],
   "source": [
    "plt.figure(figsize=(6, 5))\n",
    "plt.yscale(\"log\")\n",
    "plt.plot(obj_pgd2 , label=\"PGC\", lw=2) \n",
    "#plt.plot(obj_agd - obj_opt, label=\"AGD\", lw=2) \n",
    "#plt.plot(obj_cd - obj_opt, label=\"CD\", lw=2) \n",
    "#plt.plot(obj_cgd - obj_opt, label=\"CGD\", lw=2) plt.xlabel(r\"$k$\", fontsize=16)\n",
    "plt.ylabel(r\"$F(x_k)$\", fontsize=16) \n",
    "plt.legend(loc='upper right')\n",
    "plt.xlabel('Iterations')\n",
    "plt.title('Objectif')\n",
    "plt.xlim((0, 5))\n",
    "plt.tight_layout()\n",
    "#plt.savefig('gd_agd_cgd.pdf')"
   ]
  },
  {
   "cell_type": "markdown",
   "metadata": {},
   "source": [
    "L'objectif est alors atteint en une seule itération pour $tol=10^{-3}$."
   ]
  },
  {
   "cell_type": "markdown",
   "metadata": {},
   "source": [
    "# Descente de gradient stochastique proximal"
   ]
  },
  {
   "cell_type": "markdown",
   "metadata": {},
   "source": [
    "- Coder un algorithme de descente de gradient stochastique proximal pour ce problème\n",
    "- Comparer ses performances au PGD classique"
   ]
  },
  {
   "cell_type": "code",
   "execution_count": 42,
   "metadata": {},
   "outputs": [],
   "source": [
    "def spgd(model, w0, step = None, n_iter=50, verbose=True): #utiliser batch_size=20 ou pas (mm res)\n",
    "    \"\"\"Stochastic proximal gradient descent\n",
    "    \"\"\"\n",
    "    w = w0.copy()\n",
    "    w_new = w0.copy()\n",
    "    n_samples, n_features = model.X.shape\n",
    "\n",
    "    objectives = []\n",
    "    # Current objective\n",
    "    obj = model.loss(w) \n",
    "    objectives.append(obj) \n",
    "    if verbose:\n",
    "        print(\"Lauching GD solver...\")\n",
    "        print(' | '.join([name.center(8) for name in [\"it\", \"obj\"]])) \n",
    "    for k in range(n_iter + 1):\n",
    "        if step == None:\n",
    "            step = 1 / (model.lip_const(w))\n",
    "    #######################################################################\n",
    "        for l in range(n_samples): \n",
    "                i = np.random.choice(n_samples, n_samples, replace=False)\n",
    "                w_new[:] = model.prox(w - step*model.grad(X[i], y[i],w), step)\n",
    "                w[:] = w_new\n",
    "    #######################################################################\n",
    "        obj = model.loss(w) \n",
    "        objectives.append(obj)\n",
    "        if k % 10 == 0 and verbose:\n",
    "            print(' | '.join([(\"%d\" % k).rjust(8), (\"%.10e\" % obj).rjust(8)]))\n",
    "    return w, np.array(objectives)"
   ]
  },
  {
   "cell_type": "code",
   "execution_count": 24,
   "metadata": {},
   "outputs": [
    {
     "name": "stdout",
     "output_type": "stream",
     "text": [
      "Lauching GD solver...\n",
      "   it    |   obj   \n",
      "       0 | 4.2122332166e-01\n",
      "      10 | 4.2122332166e-01\n",
      "      20 | 4.2122332166e-01\n",
      "      30 | 4.2122332166e-01\n",
      "      40 | 4.2122332166e-01\n",
      "      50 | 4.2122332166e-01\n"
     ]
    }
   ],
   "source": [
    "w0 = np.ones(n_features)\n",
    "n_iter = 40\n",
    "w_spgd , obj_spgd = spgd(model_logreg_l1,w0)"
   ]
  },
  {
   "cell_type": "code",
   "execution_count": 44,
   "metadata": {},
   "outputs": [
    {
     "data": {
      "image/png": "[encoded data removed]",
      "text/plain": [
       "<Figure size 648x432 with 1 Axes>"
      ]
     },
     "metadata": {
      "needs_background": "light"
     },
     "output_type": "display_data"
    }
   ],
   "source": [
    "plt.figure(figsize=(9,6))\n",
    "plt.yscale(\"log\")\n",
    "plt.plot(obj_spgd , label=\"SPGD\", lw=2) \n",
    "plt.plot(obj_pgd , label=\"PGD\", lw=2) \n",
    "plt.ylabel(r\"$F(x_k)$\", fontsize=16) \n",
    "plt.xlabel('Iterations')\n",
    "plt.legend(loc='upper right')\n",
    "plt.title('Objectif')\n",
    "plt.xlim((0, 20))\n",
    "plt.tight_layout()"
   ]
  },
  {
   "cell_type": "markdown",
   "metadata": {},
   "source": [
    "La méthode  **SPGD** donne de meilleurs résultats que **PGD** pour un même nombre d'itérations. Au dela de $10$ itérations, les résultats sont semblables."
   ]
  },
  {
   "cell_type": "markdown",
   "metadata": {},
   "source": [
    "# ADMM "
   ]
  },
  {
   "cell_type": "markdown",
   "metadata": {},
   "source": [
    "- Coder un algorithme ADMM pour ce problème\n",
    "- Comparer ses performances au PGD classique et au SPGD"
   ]
  },
  {
   "cell_type": "code",
   "execution_count": 26,
   "metadata": {},
   "outputs": [],
   "source": [
    "def admm(model, w0, step = None, n_iter=50, verbose=True):\n",
    "    \"\"\"Alternating Direction Method of Multipliers (ADMM)\n",
    "    \"\"\"\n",
    "    w = w0.copy()\n",
    "    w1 = w0.copy()\n",
    "    v = w0.copy()\n",
    "    v1 = w0.copy()\n",
    "    z = w0.copy()\n",
    "    z1 = w0.copy()\n",
    "    n_samples, n_features = model.X.shape\n",
    "   \n",
    "    objectives = []\n",
    "    # Current objective\n",
    "    obj = model.loss(w) \n",
    "    objectives.append(obj) \n",
    "    if verbose:\n",
    "        print(\"Lauching GD solver...\")\n",
    "        print(' | '.join([name.center(8) for name in [\"it\", \"obj\"]])) \n",
    "    for k in range(n_iter + 1):\n",
    "        if step == None:\n",
    "            step = 1 / (model.lip_const(w))\n",
    "\n",
    "    #######################################################################\n",
    "        w1[:] = np.linalg.inv(step*(model.X.T).dot(model.X) + np.identity(n_features)).dot(step*model.X.T.dot(y) + (z-v))\n",
    "        z1[:] = model.prox((w1 + v), step)\n",
    "        v1[:] = v + (w1 - z1)\n",
    "        v[:] = v1\n",
    "        z[:] = z1\n",
    "        w[:] = w1\n",
    "    #######################################################################\n",
    "    \n",
    "        obj = model.loss(w) \n",
    "        objectives.append(obj)\n",
    "        if k % 10 == 0 and verbose:\n",
    "            print(' | '.join([(\"%d\" % k).rjust(8), (\"%.10e\" % obj).rjust(8)]))\n",
    "    return w, np.array(objectives)"
   ]
  },
  {
   "cell_type": "code",
   "execution_count": 27,
   "metadata": {},
   "outputs": [
    {
     "name": "stdout",
     "output_type": "stream",
     "text": [
      "Lauching GD solver...\n",
      "   it    |   obj   \n",
      "       0 | 5.3438964261e-01\n",
      "      10 | 5.3437079800e-01\n",
      "      20 | 5.3437079800e-01\n",
      "      30 | 5.3437079800e-01\n",
      "      40 | 5.3437079800e-01\n",
      "      50 | 5.3437079800e-01\n",
      "Lauching GD solver...\n",
      "   it    |   obj   \n",
      "       0 | 4.2122332166e-01\n",
      "      10 | 4.2122332166e-01\n",
      "      20 | 4.2122332166e-01\n",
      "      30 | 4.2122332166e-01\n",
      "      40 | 4.2122332166e-01\n",
      "      50 | 4.2122332166e-01\n",
      "Lauching GD solver...\n",
      "   it    |   obj   \n",
      "       0 | 2.2390896924e+00\n",
      "      10 | 4.2229911713e-01\n",
      "      20 | 4.2128303329e-01\n",
      "      30 | 4.2122678596e-01\n",
      "      40 | 4.2122351580e-01\n",
      "      50 | 4.2122333245e-01\n"
     ]
    }
   ],
   "source": [
    "w0 = np.ones(n_features)\n",
    "#n_iter = 20\n",
    "w_admm , obj_admm = admm(model_logreg_l1, w0)\n",
    "w_spgd , obj_spgd = spgd(model_logreg_l1, w0)\n",
    "w_pgd , obj_pgd = pgd(model_logreg_l1, w0)"
   ]
  },
  {
   "cell_type": "code",
   "execution_count": 28,
   "metadata": {},
   "outputs": [
    {
     "data": {
      "image/png": "[encoded data removed]",
      "text/plain": [
       "<Figure size 648x504 with 1 Axes>"
      ]
     },
     "metadata": {
      "needs_background": "light"
     },
     "output_type": "display_data"
    }
   ],
   "source": [
    "plt.figure(figsize=(9, 7))\n",
    "plt.yscale(\"log\")\n",
    "plt.plot(obj_spgd , label=\"SPGD\", lw=2) \n",
    "plt.plot(obj_pgd , label=\"PGD\", lw=2) \n",
    "plt.plot(obj_admm , label=\"ADMM\", lw=2) \n",
    "plt.ylabel(r\"$F(x_k)$\", fontsize=16) \n",
    "plt.xlabel('Iteration')\n",
    "plt.legend(loc='upper right')\n",
    "plt.title('Objectif')\n",
    "plt.xlim((0, n_iter))\n",
    "plt.tight_layout()"
   ]
  },
  {
   "cell_type": "code",
   "execution_count": null,
   "metadata": {},
   "outputs": [],
   "source": []
  }
 ],
 "metadata": {
  "kernelspec": {
   "display_name": "Python 3",
   "language": "python",
   "name": "python3"
  },
  "language_info": {
   "codemirror_mode": {
    "name": "ipython",
    "version": 3
   },
   "file_extension": ".py",
   "mimetype": "text/x-python",
   "name": "python",
   "nbconvert_exporter": "python",
   "pygments_lexer": "ipython3",
   "version": "3.7.3"
  }
 },
 "nbformat": 4,
 "nbformat_minor": 1
}
